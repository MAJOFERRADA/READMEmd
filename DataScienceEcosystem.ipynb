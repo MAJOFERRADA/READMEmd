{
 "cells": [
  {
   "cell_type": "markdown",
   "id": "ff763618-a96f-476f-8a65-250e95a3b782",
   "metadata": {},
   "source": [
    "# 2 Data Science Tools and Ecosystem"
   ]
  },
  {
   "cell_type": "markdown",
   "id": "682e716a-7f28-45c5-9d08-1e8a092c3064",
   "metadata": {},
   "source": [
    "# Este cuaderno presenta un resumen de las herramientas y el ecosistema de la ciencia de datos"
   ]
  },
  {
   "cell_type": "markdown",
   "id": "4fc0e891-4391-4370-9d98-26b111752266",
   "metadata": {},
   "source": [
    "**Objetivos del Cuaderno**\n",
    "* Aprender a ejecutar expresiones aritméticas en Python.\n",
    "* Comprender cómo agregar comentarios en el código.\n",
    "* Explorar herramientas y bibliotecas comunes en ciencia de datos.\n",
    "\n",
    "**Lista de lenguajes populares para la ciencia de datos**\n",
    "* Python\n",
    "* R\n",
    "* SQL"
   ]
  },
  {
   "cell_type": "markdown",
   "id": "8359ef64-1526-4580-a054-51daa21c2fff",
   "metadata": {},
   "source": [
    "4- Algunos de los lenguajes populares que utilizan los científicos de datos son:\n",
    "1. Java: Utilizado en grandes sistemas de procesamiento de datos como Hadoop.\n",
    "2. Python: Popular por su simplicidad y bibliotecas como Pandas, NumPy y scikit-learn.\n",
    "3. SQL: Escencial para manejar y consultar bases de datos relacionales."
   ]
  },
  {
   "cell_type": "markdown",
   "id": "212e37d6-3986-4582-88b9-869c8cf14b1d",
   "metadata": {},
   "source": [
    "5- Algunas de las bibliotecas comúnmente utilizadas por los científicos de datos incluyen:\n",
    "1. NumPy: Fundamental para calculos numericos y operaciones con matrices.\n",
    "2. Matplotlib: Para visualizacion de datos en graficos 2D.\n",
    "3. Pandas: Para la manipulacion y analisis de datos estructurados."
   ]
  },
  {
   "cell_type": "markdown",
   "id": "2f7f50be-df22-4989-9c42-3060d464acba",
   "metadata": {},
   "source": [
    "| Data Science Tools |\n",
    "|---------------------|\n",
    "| Jupyter Notebook     |\n",
    "| RStudio              |\n",
    "| Apache Spark         |"
   ]
  },
  {
   "cell_type": "markdown",
   "id": "b7e29fa9-a450-43da-a0c3-b00d548af2a7",
   "metadata": {},
   "source": [
    "### A continuación, se presentan algunos ejemplos de cómo evaluar expresiones aritméticas en Python\n",
    "resta = 17 - 9 \n",
    "# Salida: 8\n",
    "multiplicacion = 6 * 4\n",
    "# Salida: 24"
   ]
  },
  {
   "cell_type": "code",
   "execution_count": 8,
   "id": "4f1866ef-d3d1-423d-a7be-a8d75b1cc387",
   "metadata": {},
   "outputs": [
    {
     "data": {
      "text/plain": [
       "17"
      ]
     },
     "execution_count": 8,
     "metadata": {},
     "output_type": "execute_result"
    }
   ],
   "source": [
    "# Esta es solo una prueba de expresion aritmetica para practicar en Jupyter\n",
    "\n",
    "(3*4)+5"
   ]
  },
  {
   "cell_type": "code",
   "execution_count": 9,
   "id": "d08dbd79-f0bf-468b-996c-3494209b527d",
   "metadata": {},
   "outputs": [
    {
     "data": {
      "text/plain": [
       "3.3333333333333335"
      ]
     },
     "execution_count": 9,
     "metadata": {},
     "output_type": "execute_result"
    }
   ],
   "source": [
    "# Convertir 200 minutos a horas en Jupyter\n",
    "minutos = 200\n",
    "horas = minutos / 60 \n",
    "horas"
   ]
  },
  {
   "cell_type": "markdown",
   "id": "30383e7d-9d82-4982-a581-628b68ab2f8c",
   "metadata": {},
   "source": [
    "## Author\n",
    "Maria Jose Ferrada Jopia"
   ]
  }
 ],
 "metadata": {
  "kernelspec": {
   "display_name": "Python 3 (ipykernel)",
   "language": "python",
   "name": "python3"
  },
  "language_info": {
   "codemirror_mode": {
    "name": "ipython",
    "version": 3
   },
   "file_extension": ".py",
   "mimetype": "text/x-python",
   "name": "python",
   "nbconvert_exporter": "python",
   "pygments_lexer": "ipython3",
   "version": "3.11.9"
  }
 },
 "nbformat": 4,
 "nbformat_minor": 5
}
